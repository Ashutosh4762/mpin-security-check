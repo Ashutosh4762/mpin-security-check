{
 "cells": [
  {
   "cell_type": "code",
   "execution_count": 1,
   "id": "86188983",
   "metadata": {},
   "outputs": [],
   "source": [
    "import datetime"
   ]
  },
  {
   "cell_type": "code",
   "execution_count": null,
   "id": "2b9d0346",
   "metadata": {},
   "outputs": [],
   "source": [
    "def is_valid_date(date_str):\n",
    "    try:\n",
    "        datetime.datetime.strptime(date_str, \"%d%m%Y\")\n",
    "        return True\n",
    "    except ValueError:\n",
    "        return False\n",
    "\n",
    "def checking_mpin(pin, dob, spouse_dob, anniversary_date):\n",
    "    commonly_used = ['123456', '1234', '000000', '0000', '1111', '111111', '222222', '2222', '333333', '3333', '444444', '4444', '555555', '5555', '666666', '6666', '777777', '7777', '888888', '8888', '999999', '9999']\n",
    "    \n",
    "    if pin in commonly_used:\n",
    "        return True, 'COMMONLY_USED'\n",
    "\n",
    "    if is_valid_date(dob) and str(pin) == str(dob)[-4:]:\n",
    "        return True, 'DOB'\n",
    "    elif is_valid_date(spouse_dob) and str(pin) == str(spouse_dob)[-4:]:\n",
    "        return True, 'SPOUSE_DOB'\n",
    "    elif is_valid_date(anniversary_date) and str(pin) == str(anniversary_date)[-4:]:\n",
    "        return True, 'ANNIVERSARY'\n",
    "    elif is_valid_date(dob) and str(pin) == str(dob)[0:4]:\n",
    "        return True, 'DOB'\n",
    "    elif is_valid_date(spouse_dob) and str(pin) == str(spouse_dob)[0:4]:\n",
    "        return True, 'SPOUSE_DOB'\n",
    "    elif is_valid_date(anniversary_date) and str(pin) == str(anniversary_date)[0:4]:\n",
    "        return True, 'ANNIVERSARY'\n",
    "\n",
    "    return False, ''\n",
    "\n",
    "while True:\n",
    "    dob = input(\"Enter your date of birth (DDMMYYYY): \")\n",
    "    spouse_dob = input(\"Enter your spouse's date of birth (DDMMYYYY): \")\n",
    "    anniversary_date = input(\"Enter your wedding anniversary date (DDMMYYYY): \")\n",
    "\n",
    "    if not (is_valid_date(dob) and is_valid_date(spouse_dob) and is_valid_date(anniversary_date)):\n",
    "        print(\"Invalid date format. Please enter dates in DDMMYYYY format.\")\n",
    "        continue\n",
    "\n",
    "    mpin = input(\"ENTER MPIN OF 4 DIGITS: \")\n",
    "\n",
    "    if len(mpin) != 4 or not mpin.isdigit():\n",
    "        print(\"Enter a valid 4-digit MPIN\")\n",
    "        continue\n",
    "\n",
    "    matched, match_type = checking_mpin(mpin, dob, spouse_dob, anniversary_date)\n",
    "    if matched:\n",
    "        print(\"YOUR MPIN \"+ mpin +\" matches \"+match_type)\n",
    "        break\n",
    "    else:\n",
    "        print(\"STRONG MPIN\")\n",
    "        break\n"
   ]
  },
  {
   "cell_type": "code",
   "execution_count": null,
   "id": "22eda6ce",
   "metadata": {},
   "outputs": [],
   "source": []
  },
  {
   "cell_type": "code",
   "execution_count": null,
   "id": "42b8a034",
   "metadata": {},
   "outputs": [],
   "source": []
  },
  {
   "cell_type": "markdown",
   "id": "755b8193",
   "metadata": {},
   "source": [
    "# generating random test cases"
   ]
  },
  {
   "cell_type": "code",
   "execution_count": null,
   "id": "06a3ad75",
   "metadata": {},
   "outputs": [],
   "source": [
    "import random\n",
    "import string\n",
    "\n",
    "def generate_random_date():\n",
    "    day = str(random.randint(1, 28)).zfill(2)\n",
    "    month = str(random.randint(1, 12)).zfill(2)\n",
    "    year = str(random.randint(1900, 2022))\n",
    "    return day + month + year\n",
    "\n",
    "def generate_random_mpin(length):\n",
    "    return ''.join(random.choice(string.digits) for _ in range(length))\n",
    "\n",
    "def run_random_test_cases(num_test_cases):\n",
    "    for _ in range(num_test_cases):\n",
    "        dob = generate_random_date()\n",
    "        spouse_dob = generate_random_date()\n",
    "        anniversary_date = generate_random_date()\n",
    "\n",
    "        mpin_length = random.choice([4])\n",
    "        mpin = generate_random_mpin(mpin_length)\n",
    "\n",
    "        print(f\"DOB: {dob}, Spouse DOB: {spouse_dob}, Anniversary: {anniversary_date}, MPIN: {mpin}\")\n",
    "\n",
    "        matched, match_type = checking_mpin(mpin, dob, spouse_dob, anniversary_date)\n",
    "\n",
    "        if matched:\n",
    "            print(f\"Matched with {match_type}\")\n",
    "        else:\n",
    "            print(\"Strong MPIN\")\n",
    "\n",
    "        print(\"\" )\n",
    "\n",
    "# Run 10 random test cases\n",
    "run_random_test_cases(10)\n"
   ]
  },
  {
   "cell_type": "code",
   "execution_count": null,
   "id": "3d8c5e0d",
   "metadata": {},
   "outputs": [],
   "source": []
  },
  {
   "cell_type": "code",
   "execution_count": null,
   "id": "e65bc4bb",
   "metadata": {},
   "outputs": [],
   "source": []
  },
  {
   "cell_type": "code",
   "execution_count": null,
   "id": "8bfced91",
   "metadata": {},
   "outputs": [],
   "source": []
  },
  {
   "cell_type": "code",
   "execution_count": null,
   "id": "7fc9aa8f",
   "metadata": {},
   "outputs": [],
   "source": []
  },
  {
   "cell_type": "code",
   "execution_count": null,
   "id": "352315d6",
   "metadata": {},
   "outputs": [],
   "source": []
  },
  {
   "cell_type": "code",
   "execution_count": null,
   "id": "9975f2c2",
   "metadata": {},
   "outputs": [],
   "source": []
  },
  {
   "cell_type": "code",
   "execution_count": null,
   "id": "d568aabd",
   "metadata": {},
   "outputs": [],
   "source": []
  },
  {
   "cell_type": "code",
   "execution_count": null,
   "id": "91b6af03",
   "metadata": {},
   "outputs": [],
   "source": []
  },
  {
   "cell_type": "code",
   "execution_count": null,
   "id": "661a5e8a",
   "metadata": {},
   "outputs": [],
   "source": []
  },
  {
   "cell_type": "code",
   "execution_count": null,
   "id": "321d0b1e",
   "metadata": {},
   "outputs": [],
   "source": []
  },
  {
   "cell_type": "code",
   "execution_count": null,
   "id": "847de1cf",
   "metadata": {},
   "outputs": [],
   "source": []
  },
  {
   "cell_type": "code",
   "execution_count": null,
   "id": "f189c356",
   "metadata": {},
   "outputs": [],
   "source": []
  },
  {
   "cell_type": "code",
   "execution_count": null,
   "id": "68b47020",
   "metadata": {},
   "outputs": [],
   "source": []
  },
  {
   "cell_type": "code",
   "execution_count": null,
   "id": "cb30617a",
   "metadata": {},
   "outputs": [],
   "source": []
  },
  {
   "cell_type": "code",
   "execution_count": null,
   "id": "7b81ad51",
   "metadata": {},
   "outputs": [],
   "source": []
  },
  {
   "cell_type": "code",
   "execution_count": null,
   "id": "b1f02b9b",
   "metadata": {},
   "outputs": [],
   "source": []
  },
  {
   "cell_type": "code",
   "execution_count": null,
   "id": "bc2b20a5",
   "metadata": {},
   "outputs": [],
   "source": []
  }
 ],
 "metadata": {
  "kernelspec": {
   "display_name": "Python 3 (ipykernel)",
   "language": "python",
   "name": "python3"
  },
  "language_info": {
   "codemirror_mode": {
    "name": "ipython",
    "version": 3
   },
   "file_extension": ".py",
   "mimetype": "text/x-python",
   "name": "python",
   "nbconvert_exporter": "python",
   "pygments_lexer": "ipython3",
   "version": "3.11.4"
  }
 },
 "nbformat": 4,
 "nbformat_minor": 5
}
